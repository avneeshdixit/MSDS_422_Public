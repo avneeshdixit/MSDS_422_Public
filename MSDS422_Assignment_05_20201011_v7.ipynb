{
 "cells": [
  {
   "cell_type": "markdown",
   "metadata": {},
   "source": [
    "<img src=\"https://github.com/djp840/MSDS_458_Public/blob/master/images/NorthwesternHeader.png?raw=1\">"
   ]
  },
  {
   "cell_type": "markdown",
   "metadata": {},
   "source": [
    "## MSDS422 Assignment 05\n",
    "<div class=\"alert alert-block alert-success\">\n",
    "    <b>More Technical</b>: Throughout the notebook. This types of boxes provide more technical details and extra references about what you are seeing. They contain helpful tips, but you can safely skip them the first time you run through the code.\n",
    "</div>"
   ]
  },
  {
   "cell_type": "markdown",
   "metadata": {},
   "source": [
    "## Import packages "
   ]
  },
  {
   "cell_type": "code",
   "execution_count": null,
   "metadata": {},
   "outputs": [],
   "source": [
    "# Helper libraries\n",
    "import numpy as np\n",
    "import pandas as pd\n",
    "from time import time\n",
    "from collections import Counter\n",
    "\n",
    "import matplotlib\n",
    "import matplotlib.image as mpimg\n",
    "import matplotlib.pyplot as plt\n",
    "import seaborn as sns\n",
    "from IPython.display import display\n",
    "import plotly.offline as py\n",
    "import plotly.graph_objs as go\n",
    "import plotly.tools as tls\n",
    "\n",
    "from sklearn import metrics\n",
    "from sklearn.preprocessing import scale\n",
    "from sklearn.decomposition import PCA\n",
    "from sklearn.ensemble import RandomForestClassifier\n",
    "from sklearn.cluster import KMeans\n",
    "from sklearn.manifold import TSNE\n",
    "from sklearn.preprocessing import StandardScaler"
   ]
  },
  {
   "cell_type": "code",
   "execution_count": null,
   "metadata": {},
   "outputs": [],
   "source": [
    "%matplotlib inline"
   ]
  },
  {
   "cell_type": "markdown",
   "metadata": {},
   "source": [
    "<div class=\"alert alert-block alert-info\">\n",
    "    <b>Suppress warning messages</b></div>"
   ]
  },
  {
   "cell_type": "code",
   "execution_count": null,
   "metadata": {},
   "outputs": [],
   "source": [
    "def warn(*args, **kwargs):\n",
    "    pass\n",
    "import warnings\n",
    "warnings.warn = warn"
   ]
  },
  {
   "cell_type": "markdown",
   "metadata": {},
   "source": [
    "### Mount Google Drive to Colab Enviorment"
   ]
  },
  {
   "cell_type": "code",
   "execution_count": null,
   "metadata": {},
   "outputs": [],
   "source": [
    "#from google.colab import drive\n",
    "#drive.mount('/content/gdrive')"
   ]
  },
  {
   "cell_type": "markdown",
   "metadata": {},
   "source": [
    "### Load Data (Local Directory)"
   ]
  },
  {
   "cell_type": "code",
   "execution_count": null,
   "metadata": {},
   "outputs": [],
   "source": [
    "training_df = pd.read_csv(\"./data/MSDS422_05_train.csv\")"
   ]
  },
  {
   "cell_type": "code",
   "execution_count": null,
   "metadata": {},
   "outputs": [],
   "source": [
    "print(training_df.shape)"
   ]
  },
  {
   "cell_type": "markdown",
   "metadata": {},
   "source": [
    "### Save the labels to a Pandas Series "
   ]
  },
  {
   "cell_type": "code",
   "execution_count": null,
   "metadata": {},
   "outputs": [],
   "source": [
    "target = training_df['label']\n",
    "# Drop the label feature\n",
    "training_df.drop(\"label\",axis=1,inplace=True)"
   ]
  },
  {
   "cell_type": "code",
   "execution_count": null,
   "metadata": {},
   "outputs": [],
   "source": [
    "target.shape"
   ]
  },
  {
   "cell_type": "markdown",
   "metadata": {},
   "source": [
    "### Standardize Training Data"
   ]
  },
  {
   "cell_type": "code",
   "execution_count": null,
   "metadata": {},
   "outputs": [],
   "source": [
    "X = training_df.values\n",
    "X_std = StandardScaler().fit_transform(X)\n",
    "\n",
    "# Calculating Eigenvectors and eigenvalues of Cov matirx\n",
    "mean_vec = np.mean(X_std, axis=0)\n",
    "cov_mat = np.cov(X_std.T)\n",
    "eig_vals, eig_vecs = np.linalg.eig(cov_mat)\n",
    "# Create a list of (eigenvalue, eigenvector) tuples\n",
    "eig_pairs = [ (np.abs(eig_vals[i]),eig_vecs[:,i]) for i in range(len(eig_vals))]\n",
    "\n",
    "# Sort the eigenvalue, eigenvector pair from high to low\n",
    "eig_pairs.sort(key = lambda x: x[0], reverse= True)\n",
    "\n",
    "# Calculation of Explained Variance from the eigenvalues\n",
    "tot = sum(eig_vals)\n",
    "var_exp = [(i/tot)*100 for i in sorted(eig_vals, reverse=True)] # Individual explained variance\n",
    "cum_var_exp = np.cumsum(var_exp) # Cumulative explained variance"
   ]
  },
  {
   "cell_type": "markdown",
   "metadata": {},
   "source": [
    "### PCA analysis"
   ]
  },
  {
   "cell_type": "code",
   "execution_count": null,
   "metadata": {},
   "outputs": [],
   "source": [
    "X = training_df.values\n",
    "X_std = StandardScaler().fit_transform(X)\n",
    "\n",
    "mean_vec=np.mean(X_std,axis=0)\n",
    "cov_mat=np.cov(X_std.T)\n",
    "eigvalues ,eigvectors =np.linalg.eig(cov_mat)\n",
    "\n",
    "eigpairs=[(np.abs(eigvalues[i]),eigvectors[:,i] )for i in range(len(eigvalues))]\n",
    "\n",
    "\n",
    "eigpairs.sort(key=lambda x:x[0],reverse=True)\n",
    "   \n",
    "tot=sum(eigvalues)\n",
    "var_exp=[(i/tot)*100 for i in sorted(eigvalues,reverse=True)]\n",
    "cum_var_exp=np.cumsum(var_exp)"
   ]
  },
  {
   "cell_type": "markdown",
   "metadata": {},
   "source": [
    "<div class=\"alert alert-block alert-info\">\n",
    "<b>Plotly Python Open Source Graphing Library</b><br> \n",
    "https://plotly.com/python/<br>\n",
    "Plotly's Python graphing library makes interactive, publication-quality graphs. Examples of how to make line plots, scatter plots, area charts, bar charts, error bars, box plots, histograms, heatmaps, subplots, multiple-axes, polar charts, and bubble charts</div>"
   ]
  },
  {
   "cell_type": "code",
   "execution_count": null,
   "metadata": {},
   "outputs": [],
   "source": [
    "trace1 = go.Scatter(\n",
    "    x=list(range(784)),\n",
    "    y= cum_var_exp,\n",
    "    mode='lines+markers',\n",
    "    name=\"'Cumulative Explained Variance'\",\n",
    "   \n",
    "    line = dict(\n",
    "        shape='spline',\n",
    "        color = 'goldenrod'\n",
    "    )\n",
    ")\n",
    "trace2 = go.Scatter(\n",
    "    x=list(range(784)),\n",
    "    y= var_exp,\n",
    "    mode='lines+markers',\n",
    "    name=\"'Individual Explained Variance'\",\n",
    " \n",
    "     line = dict(\n",
    "        shape='linear',\n",
    "        color = 'black'\n",
    "    )\n",
    ")\n",
    "fig = tls.make_subplots(insets=[{'cell': (1,1), 'l': 0.7, 'b': 0.5}],\n",
    "                          print_grid=True)\n",
    "\n",
    "fig.append_trace(trace1,1,1)\n",
    "fig.append_trace(trace2,1,1)\n",
    "\n",
    "\n",
    "fig.layout.title='explained Variance plots'\n",
    "fig.layout.xaxis=dict(range=[0,800],title='Feature columns')\n",
    "fig.layout.yaxis=dict(range=[0,100],title='explained variance')\n",
    "\n",
    "\n",
    "py.iplot(fig,filename='inset example')"
   ]
  },
  {
   "cell_type": "code",
   "execution_count": null,
   "metadata": {},
   "outputs": [],
   "source": [
    "pca=PCA(30)\n",
    "pca.fit(X_std)"
   ]
  },
  {
   "cell_type": "code",
   "execution_count": null,
   "metadata": {},
   "outputs": [],
   "source": [
    "X_pca=pca.transform(X_std)"
   ]
  },
  {
   "cell_type": "code",
   "execution_count": null,
   "metadata": {},
   "outputs": [],
   "source": [
    "X_pca.shape"
   ]
  },
  {
   "cell_type": "code",
   "execution_count": null,
   "metadata": {},
   "outputs": [],
   "source": [
    "X_std.shape"
   ]
  },
  {
   "cell_type": "code",
   "execution_count": null,
   "metadata": {},
   "outputs": [],
   "source": [
    "eigenvectors=pca.components_\n",
    "eigenvectors.shape"
   ]
  },
  {
   "cell_type": "markdown",
   "metadata": {},
   "source": [
    "### Plotting Eigenvector"
   ]
  },
  {
   "cell_type": "code",
   "execution_count": null,
   "metadata": {},
   "outputs": [],
   "source": [
    "plt.figure(figsize=(17,16))\n",
    "\n",
    "x_row=4\n",
    "y_col=7\n",
    "\n",
    "for i in list(range(x_row*y_col)):\n",
    "    \n",
    "    plt.subplot(x_row,y_col,i+1)\n",
    "    plt.imshow(eigenvectors[i].reshape(28,28),cmap='twilight_shifted')\n",
    "    title_='Eigenvector'+str(i+1)\n",
    "    plt.title(title_)\n",
    "    plt.xticks(())\n",
    "    plt.yticks(())\n",
    "plt.show()    "
   ]
  },
  {
   "cell_type": "markdown",
   "metadata": {},
   "source": [
    "### Plotting MNIST Data"
   ]
  },
  {
   "cell_type": "code",
   "execution_count": null,
   "metadata": {},
   "outputs": [],
   "source": [
    "plt.figure(figsize=(12,13))\n",
    "\n",
    "for i in list(range(0,70)):\n",
    "    plt.subplot(7,10,i+1)\n",
    "    plt.title(target[i])\n",
    "    plt.imshow(training_df.iloc[i].values.reshape(28,28), interpolation = \"none\", cmap='binary')\n",
    "    plt.xticks([])\n",
    "    plt.yticks([])\n",
    "plt.tight_layout()\n",
    "               \n",
    "plt.tight_layout"
   ]
  },
  {
   "cell_type": "markdown",
   "metadata": {},
   "source": [
    "### Standardising Data and Implementing PCA"
   ]
  },
  {
   "cell_type": "markdown",
   "metadata": {},
   "source": [
    "<div class=\"alert alert-block alert-info\">\n",
    "    <b>sklearn.decomposition.PCA</b><br> \n",
    "    https://scikit-learn.org/stable/modules/generated/sklearn.decomposition.PCA.html\n",
    "    </div>"
   ]
  },
  {
   "cell_type": "code",
   "execution_count": null,
   "metadata": {},
   "outputs": [],
   "source": [
    "X_=training_df\n",
    "X_std_=StandardScaler().fit_transform(X_)\n",
    "pca_=PCA(140)\n",
    "X_140d=pca_.fit_transform(X_std_)\n",
    "Target=target"
   ]
  },
  {
   "cell_type": "code",
   "execution_count": null,
   "metadata": {},
   "outputs": [],
   "source": [
    "Target.dtype"
   ]
  },
  {
   "cell_type": "code",
   "execution_count": null,
   "metadata": {},
   "outputs": [],
   "source": [
    "print(X_140d.shape)"
   ]
  },
  {
   "cell_type": "code",
   "execution_count": null,
   "metadata": {},
   "outputs": [],
   "source": [
    "eigenvectors_=pca_.components_\n",
    "print(eigenvectors_.shape)"
   ]
  },
  {
   "cell_type": "markdown",
   "metadata": {},
   "source": [
    "### Visualisation of PCA Representations"
   ]
  },
  {
   "cell_type": "code",
   "execution_count": null,
   "metadata": {},
   "outputs": [],
   "source": [
    "trace = go.Scatter(\n",
    "    x = X_140d[:,0],\n",
    "    y = X_140d[:,1],\n",
    "    name = str(Target),\n",
    "    \n",
    "    mode = 'markers',\n",
    "    text = Target,\n",
    "    showlegend = False,\n",
    "    marker = dict(\n",
    "        size = 8,\n",
    "        color = Target,\n",
    "        colorscale ='Jet',\n",
    "        showscale = False,\n",
    "        line = dict(\n",
    "            width = 2,\n",
    "            color = 'rgb(255, 255, 255)'\n",
    "        ),\n",
    "        \n",
    "        opacity = 0.8\n",
    "    )\n",
    ")\n",
    "\n",
    "data=[trace]\n",
    "\n",
    "layout=go.Layout(title='PCA',\n",
    "                hovermode='closest',\n",
    "                xaxis=dict(\n",
    "                    title='First principal direction',\n",
    "                    ticklen=5,\n",
    "                    zeroline=False),\n",
    "                 yaxis=dict(\n",
    "                 title='Second principal direction',\n",
    "                 ticklen=5\n",
    "            ),\n",
    "                 showlegend=True\n",
    "                \n",
    "                    \n",
    "                )\n",
    "fig=dict(data=data,layout=layout)\n",
    "py.iplot(fig,filename='pca')"
   ]
  },
  {
   "cell_type": "markdown",
   "metadata": {},
   "source": [
    "### Kmeans Clustering"
   ]
  },
  {
   "cell_type": "markdown",
   "metadata": {},
   "source": [
    "<div class=\"alert alert-block alert-info\">\n",
    "    <b>sklearn.cluster.KMeans</b><br> \n",
    "    https://scikit-learn.org/stable/modules/generated/sklearn.cluster.KMeans.html\n",
    "    </div>"
   ]
  },
  {
   "cell_type": "code",
   "execution_count": null,
   "metadata": {},
   "outputs": [],
   "source": [
    "kmeans=KMeans(10)\n",
    "X_clustered=kmeans.fit_predict(X_140d)"
   ]
  },
  {
   "cell_type": "code",
   "execution_count": null,
   "metadata": {
    "scrolled": false
   },
   "outputs": [],
   "source": [
    "tracekmeans = go.Scatter(x=X_140d[:, 0], y= X_140d[:, 1], mode=\"markers\",\n",
    "                    showlegend=False,\n",
    "                    marker=dict(\n",
    "                            size=8,\n",
    "                            color = X_clustered,\n",
    "                            colorscale = 'Portland',\n",
    "                            showscale=False, \n",
    "                            line = dict(\n",
    "            width = 2,\n",
    "            color = 'rgb(255, 255, 255)'\n",
    "        )\n",
    "                   ))\n",
    "\n",
    "\n",
    "layout=go.Layout(title='Kmeans clustering',\n",
    "                 hovermode='closest',\n",
    "                 xaxis=dict(title='first principal direction',\n",
    "                           ticklen=5,\n",
    "                           zeroline=False,\n",
    "                           gridwidth=2),\n",
    "                 yaxis=dict(title='second principal component',\n",
    "                           ticklen=5,\n",
    "                           gridwidth=2),\n",
    "                 showlegend=True\n",
    "                     )\n",
    "\n",
    "data = [tracekmeans]\n",
    "fig1 = dict(data=data, layout= layout)\n",
    "py.iplot(fig1, filename=\"svm\")"
   ]
  },
  {
   "cell_type": "code",
   "execution_count": null,
   "metadata": {},
   "outputs": [],
   "source": [
    "x_clusters_df=pd.DataFrame(X_clustered, dtype=int)\n",
    "x_clusters_df.columns=['Cluster']\n",
    "targeted_df=pd.DataFrame(Target,dtype=int)"
   ]
  },
  {
   "cell_type": "markdown",
   "metadata": {},
   "source": [
    "### Cross Tablulation "
   ]
  },
  {
   "cell_type": "markdown",
   "metadata": {},
   "source": [
    "<div class=\"alert alert-block alert-info\">\n",
    "    <b>pandas.crosstab</b><br> \n",
    "   https://pandas.pydata.org/pandas-docs/stable/reference/api/pandas.crosstab.html\n",
    "    </div>"
   ]
  },
  {
   "cell_type": "code",
   "execution_count": null,
   "metadata": {},
   "outputs": [],
   "source": [
    "pd.crosstab(targeted_df.label, x_clusters_df.Cluster)"
   ]
  }
 ],
 "metadata": {
  "kernelspec": {
   "display_name": "Python 3",
   "language": "python",
   "name": "python3"
  },
  "language_info": {
   "codemirror_mode": {
    "name": "ipython",
    "version": 3
   },
   "file_extension": ".py",
   "mimetype": "text/x-python",
   "name": "python",
   "nbconvert_exporter": "python",
   "pygments_lexer": "ipython3",
   "version": "3.6.9"
  },
  "toc": {
   "base_numbering": 1,
   "nav_menu": {},
   "number_sections": false,
   "sideBar": true,
   "skip_h1_title": false,
   "title_cell": "Table of Contents",
   "title_sidebar": "Contents",
   "toc_cell": false,
   "toc_position": {},
   "toc_section_display": true,
   "toc_window_display": false
  }
 },
 "nbformat": 4,
 "nbformat_minor": 2
}
