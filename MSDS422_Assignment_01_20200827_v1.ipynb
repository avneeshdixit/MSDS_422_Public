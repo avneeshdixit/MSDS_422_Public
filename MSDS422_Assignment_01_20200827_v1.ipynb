{
 "cells": [
  {
   "cell_type": "markdown",
   "metadata": {},
   "source": [
    "<img src=\"https://github.com/djp840/MSDS_422_Public/blob/master/images/NorthwesternHeader.png?raw=1\">"
   ]
  },
  {
   "cell_type": "markdown",
   "metadata": {},
   "source": [
    "## MSDS422 Assignment 01:\n",
    "\n",
    "<div class=\"alert alert-block alert-success\">\n",
    "    <b>More Technical</b>: Throughout the notebook. This types of boxes provide more technical details and extra references about what you are seeing. They contain helpful tips, but you can safely skip them the first time you run through the code.\n",
    "</div>"
   ]
  },
  {
   "cell_type": "markdown",
   "metadata": {},
   "source": [
    "### European Centre for Disease Prevention and Control \n",
    "<div class=\"alert alert-block alert-info\">\n",
    "https://www.ecdc.europa.eu/en/publications-data/download-todays-data-geographic-distribution-covid-19-cases-worldwide</div>"
   ]
  },
  {
   "cell_type": "markdown",
   "metadata": {},
   "source": [
    "### Data Dictionary COVID-19 "
   ]
  },
  {
   "cell_type": "markdown",
   "metadata": {},
   "source": [
    "The MSDS422_COVID19 data frame has 32771 rows and 10 columns.<br>\n",
    "<br>\n",
    "This data frame contains the following columns:\n",
    "\n",
    "<b>Date</b><br>\n",
    "Formatted  datetime64[ns]<br>\n",
    "<br>\n",
    "<b>Day</b><br>\n",
    "Calendar day, dtype int64<br>\n",
    "<br>\n",
    "<b>Month</b><br>\n",
    "Calendar month, dtype int64<br>\n",
    "<br>\n",
    "<b>Year</b><br>\n",
    "Calendar year, dtype int64<br>\n",
    "<br>\n",
    "<b>Cases</b><br>\n",
    "Number of Cases Per Day, dtype int64<br>\n",
    "<br>\n",
    "<b>Deaths</b><br>\n",
    "Number of Deaths, dtype int64<br>\n",
    "<br>\n",
    "<b>Country </b><br>\n",
    "Country Name, dtype object<br>\n",
    "<br>\n",
    "<b>Population</b><br>\n",
    "Country Population<br>\n",
    "<br>\n",
    "<b>Continent</b><br>\n",
    "Continent continuous expanses of land (Africa, Antarctica, Asia, Australia, Europe, North America, South America)<br>\n",
    "<br>\n",
    "<b>CumulativeNumberPer100KCases </b><br>\n",
    "Cumulative Number For 14 Days of COVID-19 Cases per 100000<br>\n",
    "<br>\n",
    "<b>Sources:</b><br>"
   ]
  },
  {
   "cell_type": "markdown",
   "metadata": {},
   "source": [
    "## Import packages \n",
    "\n"
   ]
  },
  {
   "cell_type": "code",
   "execution_count": null,
   "metadata": {},
   "outputs": [],
   "source": [
    "import pandas as pd  \n",
    "import numpy as np  \n",
    "import scipy as sp\n",
    "import seaborn as sns\n",
    "import matplotlib\n",
    "import matplotlib.pyplot as plt\n",
    "import sklearn\n",
    "import math\n",
    "from datetime import datetime"
   ]
  },
  {
   "cell_type": "code",
   "execution_count": null,
   "metadata": {},
   "outputs": [],
   "source": [
    "#pd.options.display.float_format = '{:.3f}'.format\n",
    "%matplotlib inline"
   ]
  },
  {
   "cell_type": "markdown",
   "metadata": {},
   "source": [
    "### Load Data (Local Directory)"
   ]
  },
  {
   "cell_type": "code",
   "execution_count": null,
   "metadata": {},
   "outputs": [],
   "source": [
    "covid19_dfA=pd.read_csv('./data/MSDS422_covid19_20200825v3.csv')"
   ]
  },
  {
   "cell_type": "markdown",
   "metadata": {},
   "source": [
    "### Data Quality Review "
   ]
  },
  {
   "cell_type": "code",
   "execution_count": null,
   "metadata": {},
   "outputs": [],
   "source": [
    "print(\"Shape:\", covid19_dfA.shape,\"\\n\")\n",
    "print(\"Variable Types:\") \n",
    "print(covid19_dfA.dtypes)\n",
    "\n",
    "covid19_dfA.head(15)"
   ]
  },
  {
   "cell_type": "markdown",
   "metadata": {},
   "source": [
    "## Exploritory Data Analysis (EDA) "
   ]
  },
  {
   "cell_type": "markdown",
   "metadata": {},
   "source": [
    "### Number of Coutries "
   ]
  },
  {
   "cell_type": "code",
   "execution_count": null,
   "metadata": {},
   "outputs": [],
   "source": [
    "len(covid19_dfA.Country.unique())"
   ]
  },
  {
   "cell_type": "markdown",
   "metadata": {},
   "source": [
    "### Summary Statistics "
   ]
  },
  {
   "cell_type": "markdown",
   "metadata": {},
   "source": [
    "<div class=\"alert alert-block alert-warning\">\n",
    "Attention to the <b>count</b> row will indicate if column has missing records\n",
    "</div> "
   ]
  },
  {
   "cell_type": "code",
   "execution_count": null,
   "metadata": {},
   "outputs": [],
   "source": [
    "covid19_dfA.describe()"
   ]
  },
  {
   "cell_type": "markdown",
   "metadata": {},
   "source": [
    "### Review Dataset for Missing Values"
   ]
  },
  {
   "cell_type": "markdown",
   "metadata": {},
   "source": [
    "<div class=\"alert alert-block alert-warning\">\n",
    "Review dataset for missing records\n",
    "</div>"
   ]
  },
  {
   "cell_type": "code",
   "execution_count": null,
   "metadata": {},
   "outputs": [],
   "source": [
    "covid19_dfA.isnull().sum()"
   ]
  },
  {
   "cell_type": "markdown",
   "metadata": {},
   "source": [
    "## Preprocess Data for Analysis"
   ]
  },
  {
   "cell_type": "markdown",
   "metadata": {},
   "source": [
    "#### Date Column formatted into ISO 8601 standard format (Year - Month - Day)"
   ]
  },
  {
   "cell_type": "code",
   "execution_count": null,
   "metadata": {},
   "outputs": [],
   "source": [
    "covid19_dfA['Date']=pd.to_datetime(covid19_dfA['Date'], format='%d/%m/%Y').dt.strftime('%Y%m%d')\n",
    "covid19_dfA['Date']=pd.to_datetime(covid19_dfA['Date'], format='%Y/%m/%d')\n",
    "covid19_dfA['Date'].head()"
   ]
  },
  {
   "cell_type": "markdown",
   "metadata": {},
   "source": [
    "#### Review Data Types (dtypes)"
   ]
  },
  {
   "cell_type": "code",
   "execution_count": null,
   "metadata": {},
   "outputs": [],
   "source": [
    "covid19_dfA.dtypes"
   ]
  },
  {
   "cell_type": "code",
   "execution_count": null,
   "metadata": {},
   "outputs": [],
   "source": [
    "covid19_dfA.isnull().sum()"
   ]
  },
  {
   "cell_type": "code",
   "execution_count": null,
   "metadata": {},
   "outputs": [],
   "source": [
    "covid19_dfA.head()"
   ]
  },
  {
   "cell_type": "code",
   "execution_count": null,
   "metadata": {},
   "outputs": [],
   "source": [
    "covid19_dfA.shape"
   ]
  },
  {
   "cell_type": "code",
   "execution_count": null,
   "metadata": {},
   "outputs": [],
   "source": [
    "covid19_dfA.dtypes"
   ]
  },
  {
   "cell_type": "markdown",
   "metadata": {},
   "source": [
    "### Write out file</br>\n",
    "> - covid19_dfA.to_excel()</br>\n",
    "> - covid19_dfA.to_csv()</br>"
   ]
  },
  {
   "cell_type": "markdown",
   "metadata": {},
   "source": [
    "## Visualizing Data"
   ]
  },
  {
   "cell_type": "code",
   "execution_count": null,
   "metadata": {},
   "outputs": [],
   "source": [
    "world_daily = covid19_dfA.set_index('Date')\n",
    "sns.set_color_codes(\"colorblind\")\n",
    "sns.set(rc={'figure.figsize':(15, 11)})\n",
    "world_daily['Cases'].plot(linewidth = 2.5)\n",
    "\n",
    "\n",
    "plt.title('Worldwide Cases Over Time', fontsize = 20)\n",
    "plt.xlabel('Date', fontsize = 16)\n",
    "plt.xticks(fontsize = 13)\n",
    "plt.ylabel('Cases', fontsize = 16)\n",
    "plt.yticks(fontsize = 13)\n",
    "\n",
    "plt.show()"
   ]
  },
  {
   "cell_type": "code",
   "execution_count": null,
   "metadata": {},
   "outputs": [],
   "source": [
    "sns.set(rc={'figure.figsize':(15,11)})\n",
    "world_daily['Deaths'].plot(linewidth = 2.5)\n",
    "\n",
    "\n",
    "plt.title('Worldwide Deaths Over Time', fontsize = 20)\n",
    "plt.xlabel('Number of Deaths by Date', fontsize = 16)\n",
    "plt.xticks(fontsize = 13)\n",
    "plt.ylabel('Number of Deaths', fontsize = 16)\n",
    "plt.yticks(fontsize = 13)\n",
    "\n",
    "plt.show()"
   ]
  },
  {
   "cell_type": "code",
   "execution_count": null,
   "metadata": {},
   "outputs": [],
   "source": [
    "UScovid19_df = covid19_dfA[covid19_dfA[\"Country\"] == \"United_States_of_America\"].reset_index()\n",
    "US_daily = UScovid19_df.set_index('Date')\n",
    "\n",
    "sns.set(rc={'figure.figsize':(15, 11)})\n",
    "US_daily['Cases'].plot(linewidth = 2.5)\n",
    "\n",
    "plt.title('US Cases Over Time', fontsize = 20)\n",
    "plt.xlabel('Case by Date', fontsize = 16)\n",
    "plt.xticks(fontsize = 13)\n",
    "plt.ylabel('Number of Cases', fontsize = 16)\n",
    "plt.yticks(fontsize = 13)\n",
    "\n",
    "plt.show()"
   ]
  },
  {
   "cell_type": "code",
   "execution_count": null,
   "metadata": {},
   "outputs": [],
   "source": [
    "UScovid19_df = covid19_dfA[covid19_dfA[\"Country\"] == \"United_States_of_America\"].reset_index()\n",
    "US_daily = UScovid19_df.set_index('Date')\n",
    "\n",
    "sns.set(rc={'figure.figsize':(15, 11)})\n",
    "US_daily['Deaths'].plot(linewidth = 2.5)\n",
    "\n",
    "plt.title('US Deaths Over Time', fontsize = 20)\n",
    "plt.xlabel('Deaths by Date', fontsize = 16)\n",
    "plt.xticks(fontsize = 13)\n",
    "plt.ylabel('Number of Deaths', fontsize = 16)\n",
    "plt.yticks(fontsize = 13)\n",
    "\n",
    "plt.show()"
   ]
  }
 ],
 "metadata": {
  "kernelspec": {
   "display_name": "Python 3",
   "language": "python",
   "name": "python3"
  },
  "language_info": {
   "codemirror_mode": {
    "name": "ipython",
    "version": 3
   },
   "file_extension": ".py",
   "mimetype": "text/x-python",
   "name": "python",
   "nbconvert_exporter": "python",
   "pygments_lexer": "ipython3",
   "version": "3.6.9"
  },
  "toc": {
   "base_numbering": 1,
   "nav_menu": {},
   "number_sections": false,
   "sideBar": true,
   "skip_h1_title": false,
   "title_cell": "Table of Contents",
   "title_sidebar": "Contents",
   "toc_cell": false,
   "toc_position": {},
   "toc_section_display": true,
   "toc_window_display": false
  }
 },
 "nbformat": 4,
 "nbformat_minor": 2
}
