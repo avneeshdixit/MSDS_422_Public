{
 "cells": [
  {
   "cell_type": "markdown",
   "metadata": {},
   "source": [
    "<img src=\"https://github.com/djp840/MSDS_422_Public/blob/master/images/NorthwesternHeader.png?raw=1\">"
   ]
  },
  {
   "cell_type": "markdown",
   "metadata": {},
   "source": [
    "## MSDS422 Assignment 02:\n",
    "\n",
    "<div class=\"alert alert-block alert-success\">\n",
    "    <b>More Technical</b>: Throughout the notebook. This types of boxes provide more technical details and extra references about what you are seeing. They contain helpful tips, but you can safely skip them the first time you run through the code.\n",
    "</div>"
   ]
  },
  {
   "cell_type": "markdown",
   "metadata": {},
   "source": [
    "### Data Dictionary Housing Values in Suburbs of Boston"
   ]
  },
  {
   "cell_type": "markdown",
   "metadata": {},
   "source": [
    "The Boston data frame has 506 rows and 14 columns.<br>\n",
    "The <b>medv variable</b> is the target variable.<br>\n",
    "<br>\n",
    "<b>crim</b><br>\n",
    "per capita crime rate by town.<br>\n",
    "<br>\n",
    "<b>zn</b><br>\n",
    "proportion of residential land zoned for lots over 25,000 sq.ft.<br>\n",
    "<br>\n",
    "<b>inducrims</b><br>\n",
    "proportion of non-retail business acres per town.<br>\n",
    "<br>\n",
    "<b>chas</b><br>\n",
    "Charles River dummy variable (= 1 if tract bounds river; 0 otherwise).<br>\n",
    "<br>\n",
    "<b>nox</b><br>\n",
    "nitrogen oxides concentration (parts per 10 million).<br>\n",
    "<br>\n",
    "<b>rm</b><br>\n",
    "average number of rooms per dwelling.<br>\n",
    "<br>\n",
    "<b>age</b><br>\n",
    "proportion of owner-occupied units built prior to 1940.<br>\n",
    "<br>\n",
    "<b>dis</b><br>\n",
    "weighted mean of distances to five Boston employment centres.<br>\n",
    "<br>\n",
    "<b>rad</b><br>\n",
    "index of accessibility to radial highways.<br>\n",
    "<br>\n",
    "<b>tax</b><br>\n",
    "full-value property minus tax rate per ten thousand dollars<br>\n",
    "<br>\n",
    "<b>ptratio</b><br>\n",
    "pupil-teacher ratio by town.<br>\n",
    "<br>\n",
    "<b>black</b><br>\n",
    "1 Thousand(Bk - 0.63)^2\" where Bk is the proportion of blacks by town.<br>\n",
    "<br>\n",
    "<b>lstat</b><br>\n",
    "lower status of the population (percent).<br>\n",
    "<br>\n",
    "<b>medv</b><br>\n",
    "median value of owner-occupied homes in $1000s.<br>\n",
    "<br>\n",
    "<br>\n",
    "<b>Sources:</b><br>\n",
    "Harrison, D. and Rubinfeld, D.L. 1978 Hedonic prices and the demand for clean air. J. Environ. Economics and Management 5, 81–102.<br>\n",
    "<br>\n",
    "Belsley D.A., Kuh, E. and Welsch, R.E. 1980 Regression Diagnostics. Identifying Influential Data and Sources of Collinearity. New York: Wiley.<br>"
   ]
  },
  {
   "cell_type": "markdown",
   "metadata": {},
   "source": [
    "## Import packages "
   ]
  },
  {
   "cell_type": "code",
   "execution_count": null,
   "metadata": {},
   "outputs": [],
   "source": [
    "import numpy as np\n",
    "import pandas as pd\n",
    "import os\n",
    "import itertools\n",
    "from math import sqrt\n",
    "from scipy import stats as st\n",
    "#import cvxopt\n",
    "\n",
    "import sklearn \n",
    "from sklearn.preprocessing import StandardScaler # used for variable scaling data\n",
    "from sklearn.preprocessing import MinMaxScaler as Scaler # used for variable scaling data\n",
    "from sklearn.model_selection import train_test_split\n",
    "\n",
    "import sklearn.linear_model \n",
    "from sklearn.linear_model import LinearRegression, Ridge, Lasso, ElasticNet\n",
    "from sklearn.ensemble import RandomForestRegressor # Random Forest package\n",
    "from sklearn.ensemble import ExtraTreesRegressor # Extra Trees package\n",
    "from sklearn.ensemble import GradientBoostingRegressor # Gradient Boosting package\n",
    "\n",
    "from sklearn.metrics import mean_squared_error, r2_score \n",
    "from sklearn.metrics import make_scorer, accuracy_score \n",
    "\n",
    "from sklearn.model_selection import GridSearchCV\n",
    "from sklearn.model_selection import train_test_split\n",
    "from sklearn.model_selection import KFold\n",
    "\n",
    "import statsmodels.api as sm\n",
    "\n",
    "from matplotlib import pyplot as plt\n",
    "from matplotlib import rc\n",
    "import seaborn as sns\n",
    "sns.set_style(\"whitegrid\")\n",
    "sns.set(style=\"whitegrid\", color_codes=True)\n",
    "plt.rc(\"font\", size=14)"
   ]
  },
  {
   "cell_type": "code",
   "execution_count": null,
   "metadata": {},
   "outputs": [],
   "source": [
    "%matplotlib inline"
   ]
  },
  {
   "cell_type": "markdown",
   "metadata": {},
   "source": [
    "<div class=\"alert alert-block alert-info\">\n",
    "    <b>Suppress warning messages</b></div>"
   ]
  },
  {
   "cell_type": "code",
   "execution_count": null,
   "metadata": {},
   "outputs": [],
   "source": [
    "def warn(*args, **kwargs):\n",
    "    pass\n",
    "import warnings\n",
    "warnings.warn = warn"
   ]
  },
  {
   "cell_type": "markdown",
   "metadata": {},
   "source": [
    "### Load Data (Local Directory)"
   ]
  },
  {
   "cell_type": "code",
   "execution_count": null,
   "metadata": {},
   "outputs": [],
   "source": [
    "boston_df=pd.read_csv('./data/MSDS422_02_boston.csv')"
   ]
  },
  {
   "cell_type": "markdown",
   "metadata": {},
   "source": [
    "### Mount Google Drive to Colab Enviorment"
   ]
  },
  {
   "cell_type": "code",
   "execution_count": null,
   "metadata": {},
   "outputs": [],
   "source": [
    "#from google.colab import drive\n",
    "#drive.mount('/content/gdrive')"
   ]
  },
  {
   "cell_type": "markdown",
   "metadata": {},
   "source": [
    "### Data Quality Review "
   ]
  },
  {
   "cell_type": "code",
   "execution_count": null,
   "metadata": {},
   "outputs": [],
   "source": [
    "print(\"Shape:\", boston_df.shape,\"\\n\")\n",
    "print(\"Variable Types:\") \n",
    "print(boston_df.dtypes)"
   ]
  },
  {
   "cell_type": "code",
   "execution_count": null,
   "metadata": {},
   "outputs": [],
   "source": [
    "boston_df.head()"
   ]
  },
  {
   "cell_type": "markdown",
   "metadata": {},
   "source": [
    " <div class=\"alert alert-block alert-warning\">\n",
    "Dropping Neighborhood as it is non-numeric\n",
    " </div>"
   ]
  },
  {
   "cell_type": "code",
   "execution_count": null,
   "metadata": {},
   "outputs": [],
   "source": [
    "boston_df=boston_df.drop('neighborhood', 1)"
   ]
  },
  {
   "cell_type": "markdown",
   "metadata": {},
   "source": [
    "## Exploritory Data Analysis (EDA) "
   ]
  },
  {
   "cell_type": "markdown",
   "metadata": {},
   "source": [
    "### Review Dataset for Missing Values"
   ]
  },
  {
   "cell_type": "code",
   "execution_count": null,
   "metadata": {},
   "outputs": [],
   "source": [
    "boston_df.isnull().sum()"
   ]
  },
  {
   "cell_type": "markdown",
   "metadata": {},
   "source": [
    "<div class=\"alert alert-block alert-warning\">\n",
    "Attention to the <b>count</b> row for each column number of records\n",
    "</div> "
   ]
  },
  {
   "cell_type": "code",
   "execution_count": null,
   "metadata": {},
   "outputs": [],
   "source": [
    "boston_df.describe()"
   ]
  },
  {
   "cell_type": "markdown",
   "metadata": {},
   "source": [
    "### Review Dataset Distributions  Boxplot and Histograms"
   ]
  },
  {
   "cell_type": "code",
   "execution_count": null,
   "metadata": {},
   "outputs": [],
   "source": [
    "boston_df.boxplot(vert=False, figsize=(10,10), grid=False)"
   ]
  },
  {
   "cell_type": "code",
   "execution_count": null,
   "metadata": {},
   "outputs": [],
   "source": [
    "sns.pairplot(boston_df, diag_kind='hist')"
   ]
  },
  {
   "cell_type": "markdown",
   "metadata": {},
   "source": [
    "## Preprocess Data for Analysis"
   ]
  },
  {
   "cell_type": "markdown",
   "metadata": {},
   "source": [
    "#### Normalizing Variable Distributions with Log Transformation "
   ]
  },
  {
   "cell_type": "markdown",
   "metadata": {},
   "source": [
    "Analysis of linear relationships between variables can introduce \"0\" (zero) values, these have to be removed to be able to work with Log transformation (normalization) of the data"
   ]
  },
  {
   "cell_type": "markdown",
   "metadata": {},
   "source": [
    "<div class=\"alert alert-block alert-info\">\n",
    "https://docs.scipy.org/doc/scipy/reference/generated/scipy.stats.boxcox.html\n",
    "    </div>"
   ]
  },
  {
   "cell_type": "markdown",
   "metadata": {},
   "source": [
    "y = (x**lmbda - 1) / lmbda,  for lmbda > 0<br>\n",
    "    log(x),                  for lmbda = 0<br>\n",
    "\n",
    "<b>boxcox</b> requires the input data to be positive. Sometimes a Box-Cox transformation provides a `shift parameter` to achieve this;<br> <b>boxcox</b> does not. Such a shift parameter is equivalent to adding a positive constant to x before calling boxcox."
   ]
  },
  {
   "cell_type": "markdown",
   "metadata": {},
   "source": [
    "#### Create Dataframe with Target Variable"
   ]
  },
  {
   "cell_type": "code",
   "execution_count": null,
   "metadata": {},
   "outputs": [],
   "source": [
    "boston_df1=boston_df.copy()"
   ]
  },
  {
   "cell_type": "code",
   "execution_count": null,
   "metadata": {},
   "outputs": [],
   "source": [
    "columns = ['crim','zn','indus','chas','nox','rooms','age','dis','rad','tax','ptratio','lstat']\n",
    "boston_Target = boston_df1.drop(columns=columns)"
   ]
  },
  {
   "cell_type": "code",
   "execution_count": null,
   "metadata": {},
   "outputs": [],
   "source": [
    "print(boston_Target.head())"
   ]
  },
  {
   "cell_type": "code",
   "execution_count": null,
   "metadata": {},
   "outputs": [],
   "source": [
    "boston_Target.shape"
   ]
  },
  {
   "cell_type": "code",
   "execution_count": null,
   "metadata": {},
   "outputs": [],
   "source": [
    "boston_df2=boston_df.apply(lambda x: x+.01)\n",
    "boston_df2=boston_df2.transform(lambda x: st.boxcox(x)[0])"
   ]
  },
  {
   "cell_type": "code",
   "execution_count": null,
   "metadata": {},
   "outputs": [],
   "source": [
    "sns.pairplot(boston_df2, diag_kind='hist')"
   ]
  },
  {
   "cell_type": "code",
   "execution_count": null,
   "metadata": {},
   "outputs": [],
   "source": [
    "boston_df3=boston_df2.transform(lambda x: (x - x.min()) / (x.max() - x.min()))"
   ]
  },
  {
   "cell_type": "code",
   "execution_count": null,
   "metadata": {},
   "outputs": [],
   "source": [
    "boston_df3.hist(figsize=(10,10))"
   ]
  },
  {
   "cell_type": "markdown",
   "metadata": {},
   "source": [
    "#### Plot the distribution of the target variable mv (median value of owner-occupied homes in $1000s)"
   ]
  },
  {
   "cell_type": "code",
   "execution_count": null,
   "metadata": {},
   "outputs": [],
   "source": [
    "sns.set(rc={'figure.figsize':(11.7,8.27)})\n",
    "sns.distplot(boston_Target['mv'], bins=30)\n",
    "plt.show()"
   ]
  },
  {
   "cell_type": "code",
   "execution_count": null,
   "metadata": {},
   "outputs": [],
   "source": [
    "boston_df3.dtypes"
   ]
  },
  {
   "cell_type": "markdown",
   "metadata": {},
   "source": [
    "The <b>medv variable</b> is the target variable.<br>"
   ]
  },
  {
   "cell_type": "code",
   "execution_count": null,
   "metadata": {},
   "outputs": [],
   "source": [
    "cols = boston_df3.columns.tolist()\n",
    "cols = cols[-1:] + cols[:-1]\n",
    "boston_df4=boston_df3[cols]\n",
    "boston_df4.describe(include=\"all\")"
   ]
  },
  {
   "cell_type": "markdown",
   "metadata": {},
   "source": [
    "<div class=\"alert alert-block alert-info\">\n",
    "    <b>Correlation matrix that measures the linear relationships</b><br> \n",
    "    https://pandas.pydata.org/pandas-docs/stable/reference/api/pandas.DataFrame.corr.html\n",
    "    </div>"
   ]
  },
  {
   "cell_type": "code",
   "execution_count": null,
   "metadata": {},
   "outputs": [],
   "source": [
    "plt.figure(figsize=(15,10))\n",
    "corr=boston_df4.corr(method='pearson')\n",
    "mask = np.zeros_like(corr, dtype=np.bool)\n",
    "mask[np.triu_indices_from(mask)] = True\n",
    "sns.heatmap(corr, mask=mask, cmap=sns.diverging_palette(220, 10, as_cmap=True), annot=True, vmax=.3, center=0,\n",
    "            square=True, linewidths=.5, cbar_kws={\"shrink\": .5})\n",
    "plt.show()"
   ]
  },
  {
   "cell_type": "markdown",
   "metadata": {},
   "source": [
    "#### Create Dataset for Random Search"
   ]
  },
  {
   "cell_type": "code",
   "execution_count": null,
   "metadata": {},
   "outputs": [],
   "source": [
    "boston_df6=boston_df4.copy()"
   ]
  },
  {
   "cell_type": "markdown",
   "metadata": {},
   "source": [
    "#### Drop Correlated Values ( correlation >= (+/-) 0.75 )"
   ]
  },
  {
   "cell_type": "code",
   "execution_count": null,
   "metadata": {},
   "outputs": [],
   "source": [
    "columns = ['rad', 'nox','dis']\n",
    "boston_df5 = boston_df4.drop(columns=columns)"
   ]
  },
  {
   "cell_type": "code",
   "execution_count": null,
   "metadata": {},
   "outputs": [],
   "source": [
    "list(boston_df5.columns.values)"
   ]
  },
  {
   "cell_type": "code",
   "execution_count": null,
   "metadata": {},
   "outputs": [],
   "source": [
    "# Create multiple plots\n",
    "features = boston_df5.drop('mv', 1).columns\n",
    "target = boston_df5['mv']\n",
    "plt.figure(figsize=(20,20))\n",
    "for index, feature_name in enumerate(features):\n",
    "    plt.subplot(4,len(features)/2, index+1)\n",
    "    plt.scatter(boston_df5[feature_name], target)\n",
    "    plt.title(feature_name, fontsize=15)\n",
    "    plt.xlabel(feature_name, fontsize=8)\n",
    "    plt.ylabel('mv', fontsize=15)"
   ]
  },
  {
   "cell_type": "markdown",
   "metadata": {},
   "source": [
    "The variables room and lstat look to have linear relationship with mv target variable"
   ]
  },
  {
   "cell_type": "markdown",
   "metadata": {},
   "source": [
    "## Create Linear Regression Model"
   ]
  },
  {
   "cell_type": "markdown",
   "metadata": {},
   "source": [
    "### Summary Statistics for Linear Regression Model - Statsmodel "
   ]
  },
  {
   "cell_type": "code",
   "execution_count": null,
   "metadata": {},
   "outputs": [],
   "source": [
    "X = pd.DataFrame(np.c_[boston_df['crim']\n",
    ",boston_df['indus']\n",
    ",boston_df['rooms']\n",
    ",boston_df['age']\n",
    ",boston_df['tax']\n",
    ",boston_df['ptratio']\n",
    ",boston_df['lstat']])"
   ]
  },
  {
   "cell_type": "code",
   "execution_count": null,
   "metadata": {},
   "outputs": [],
   "source": [
    "Y = boston_Target['mv']"
   ]
  },
  {
   "cell_type": "code",
   "execution_count": null,
   "metadata": {},
   "outputs": [],
   "source": [
    "X=sm.add_constant(X)\n",
    "model=sm.OLS(Y, X)"
   ]
  },
  {
   "cell_type": "code",
   "execution_count": null,
   "metadata": {},
   "outputs": [],
   "source": [
    "results=model.fit()"
   ]
  },
  {
   "cell_type": "code",
   "execution_count": null,
   "metadata": {},
   "outputs": [],
   "source": [
    "print(results.summary())"
   ]
  },
  {
   "cell_type": "markdown",
   "metadata": {},
   "source": [
    "<div class=\"alert alert-block alert-info\">\n",
    "<b>sklearn.linear_model.LinearRegression</b><br>\n",
    "https://scikit-learn.org/stable/modules/generated/sklearn.linear_model.LinearRegression.html\n",
    "</div>"
   ]
  },
  {
   "cell_type": "code",
   "execution_count": null,
   "metadata": {},
   "outputs": [],
   "source": [
    "X = boston_df5[[ 'crim'\n",
    "                 ,'indus'\n",
    "                 ,'rooms'\n",
    "                 ,'age'\n",
    "                 ,'tax'\n",
    "                 ,'ptratio'\n",
    "                 ,'lstat']]\n",
    "y = boston_Target.mv"
   ]
  },
  {
   "cell_type": "markdown",
   "metadata": {},
   "source": [
    "#### Split Dataset into Training and Test"
   ]
  },
  {
   "cell_type": "code",
   "execution_count": null,
   "metadata": {},
   "outputs": [],
   "source": [
    "X_train, X_test, y_train, y_test = train_test_split(X, y, test_size = 0.33, random_state = 10)"
   ]
  },
  {
   "cell_type": "markdown",
   "metadata": {},
   "source": [
    "#### Review Train and Testing "
   ]
  },
  {
   "cell_type": "code",
   "execution_count": null,
   "metadata": {},
   "outputs": [],
   "source": [
    "print(X_train.shape) \n",
    "print(X_test.shape) \n",
    "print(y_train.shape) \n",
    "print(y_test.shape) "
   ]
  },
  {
   "cell_type": "markdown",
   "metadata": {},
   "source": [
    "#### Create LinearRegression Instance"
   ]
  },
  {
   "cell_type": "code",
   "execution_count": null,
   "metadata": {},
   "outputs": [],
   "source": [
    "lrm = LinearRegression()\n",
    "\n",
    "# Fit data on to the model\n",
    "lrm.fit(X_train, y_train)\n",
    "\n",
    "# Predict\n",
    "y_predicted_lrm = lrm.predict(X_test)"
   ]
  },
  {
   "cell_type": "markdown",
   "metadata": {},
   "source": [
    "#### Linear Regression Model Actual Vs. Predicted Price Plot"
   ]
  },
  {
   "cell_type": "code",
   "execution_count": null,
   "metadata": {},
   "outputs": [],
   "source": [
    "plt.figure(figsize=(10,8))\n",
    "plt.scatter(y_test, y_predicted_lrm)\n",
    "plt.plot([0, 50], [0, 50], '--k')\n",
    "plt.axis('tight')\n",
    "plt.ylabel('Predicted Prices', fontsize=20);\n",
    "plt.xlabel('Actual Prices', fontsize=20);\n",
    "plt.title(\"Linear Regression Predicted Boston Housing Prices vs. Actual in $1000's\", fontsize=20)\n",
    "\n",
    "plt.rc('xtick', labelsize=15)\n",
    "plt.rc('ytick', labelsize=15)\n",
    "\n",
    "plt.show()"
   ]
  },
  {
   "cell_type": "code",
   "execution_count": null,
   "metadata": {},
   "outputs": [],
   "source": [
    "print(\"Linear Regression R_squared = \",lrm.score(X,y)) \n",
    "pred= lrm.predict(X)\n",
    "rmse = sqrt(mean_squared_error(pred, y))\n",
    "print('Linear Regression RMSE = ', rmse)"
   ]
  },
  {
   "cell_type": "code",
   "execution_count": null,
   "metadata": {},
   "outputs": [],
   "source": [
    "print(lrm.coef_)"
   ]
  },
  {
   "cell_type": "code",
   "execution_count": null,
   "metadata": {},
   "outputs": [],
   "source": [
    "print(lrm.intercept_)"
   ]
  },
  {
   "cell_type": "markdown",
   "metadata": {},
   "source": [
    "## Create Ridge Regression Model"
   ]
  },
  {
   "cell_type": "markdown",
   "metadata": {},
   "source": [
    "<div class=\"alert alert-block alert-success\">\n",
    "    <b>Ridge Regression</b>: tends to give small but well distributed weights, because the l2 regularization cares more about driving big weight to small weights, instead of driving small weights to zeros. If you only have a few predictors, and you are confident that all of them should be really relevant for predictions, try Ridge as a good regularized linear regression method\n",
    "</div>"
   ]
  },
  {
   "cell_type": "markdown",
   "metadata": {},
   "source": [
    "<div class=\"alert alert-block alert-info\">\n",
    "<b>sklearn.linear_model.Ridge</b><br>\n",
    "https://scikit-learn.org/stable/modules/generated/sklearn.linear_model.Ridge.html\n",
    "</div>"
   ]
  },
  {
   "cell_type": "markdown",
   "metadata": {},
   "source": [
    "#### Create Ridge Regression Instance"
   ]
  },
  {
   "cell_type": "code",
   "execution_count": null,
   "metadata": {},
   "outputs": [],
   "source": [
    "rrm = Ridge()\n",
    "\n",
    "# Fit data on to the model\n",
    "rrm.fit(X_train, y_train)\n",
    "\n",
    "# Predict\n",
    "y_predicted_rrm = rrm.predict(X_test)"
   ]
  },
  {
   "cell_type": "markdown",
   "metadata": {},
   "source": [
    "#### Linear Regression Model Actual Vs. Predicted Price Plot"
   ]
  },
  {
   "cell_type": "code",
   "execution_count": null,
   "metadata": {},
   "outputs": [],
   "source": [
    "plt.figure(figsize=(10,8))\n",
    "plt.scatter(y_test, y_predicted_rrm)\n",
    "plt.plot([0, 50], [0, 50], '--k')\n",
    "plt.axis('tight')\n",
    "plt.ylabel('Predicted Prices', fontsize=20);\n",
    "plt.xlabel('Actual Prices', fontsize=20);\n",
    "plt.title(\"Ridge Regression Predicted Boston Housing Prices vs. Actual in $1000's\", fontsize=20)\n",
    "\n",
    "plt.rc('xtick', labelsize=15)\n",
    "plt.rc('ytick', labelsize=15)\n",
    "\n",
    "plt.show()"
   ]
  },
  {
   "cell_type": "code",
   "execution_count": null,
   "metadata": {},
   "outputs": [],
   "source": [
    "print(\"Ridge Regression R_squared = \",rrm.score(X,y)) \n",
    "pred= rrm.predict(X)\n",
    "rmse = sqrt(mean_squared_error(pred, y))\n",
    "print('Ridge Regression RMSE = ', rmse)"
   ]
  },
  {
   "cell_type": "code",
   "execution_count": null,
   "metadata": {},
   "outputs": [],
   "source": [
    "print(rrm.coef_)"
   ]
  },
  {
   "cell_type": "code",
   "execution_count": null,
   "metadata": {},
   "outputs": [],
   "source": [
    "print(rrm.intercept_)"
   ]
  },
  {
   "cell_type": "markdown",
   "metadata": {},
   "source": [
    "## Create Lasso Regression Model\n",
    "Linear Model trained with L1 prior as regularizer (Lasso)"
   ]
  },
  {
   "cell_type": "markdown",
   "metadata": {},
   "source": [
    "<div class=\"alert alert-block alert-success\">\n",
    "    <b>Lasso Regression</b>: tend to give sparse weights (most zeros), because the l1 regularization cares equally about driving down big weights to small weights, or driving small weights to zeros. If you have a lot of predictors (features), and you suspect that not all of them are that important, Lasso and ElasticNet may be really good idea to start with</div>"
   ]
  },
  {
   "cell_type": "markdown",
   "metadata": {},
   "source": [
    "<div class=\"alert alert-block alert-info\">\n",
    "<b>sklearn.linear_model.Lasso</b><br>\n",
    "https://scikit-learn.org/stable/modules/generated/sklearn.linear_model.Lasso.html#sklearn.linear_model.Lasso\n",
    "</div>"
   ]
  },
  {
   "cell_type": "code",
   "execution_count": null,
   "metadata": {},
   "outputs": [],
   "source": [
    "larm = Lasso(alpha=0.001)\n",
    "\n",
    "# Fit data on to the model\n",
    "larm.fit(X_train, y_train)\n",
    "\n",
    "# Predict\n",
    "y_predicted_larm = larm.predict(X_test)"
   ]
  },
  {
   "cell_type": "markdown",
   "metadata": {},
   "source": [
    "#### Lasso Regression Model Actual Vs. Predicted Price Plot"
   ]
  },
  {
   "cell_type": "code",
   "execution_count": null,
   "metadata": {},
   "outputs": [],
   "source": [
    "plt.figure(figsize=(10,8))\n",
    "plt.scatter(y_test,y_predicted_larm)\n",
    "plt.plot([0, 50], [0, 50], '--k')\n",
    "plt.axis('tight')\n",
    "plt.ylabel('Predicted Prices', fontsize=20);\n",
    "plt.xlabel('Actual Prices', fontsize=20);\n",
    "plt.title(\"Lasso Regression Predicted Boston Housing Prices vs. Actual in $1000's\", fontsize=20)\n",
    "\n",
    "plt.rc('xtick', labelsize=15)\n",
    "plt.rc('ytick', labelsize=15)\n",
    "\n",
    "plt.show()"
   ]
  },
  {
   "cell_type": "code",
   "execution_count": null,
   "metadata": {},
   "outputs": [],
   "source": [
    "print(\"Lasso Regression R_squared = \",larm.score(X,y)) \n",
    "pred= larm.predict(X)\n",
    "rmse = sqrt(mean_squared_error(pred, y))\n",
    "print('Lasso Regression RMSE = ', rmse)"
   ]
  },
  {
   "cell_type": "code",
   "execution_count": null,
   "metadata": {},
   "outputs": [],
   "source": [
    "print(larm.coef_)"
   ]
  },
  {
   "cell_type": "code",
   "execution_count": null,
   "metadata": {},
   "outputs": [],
   "source": [
    "print(larm.intercept_)"
   ]
  },
  {
   "cell_type": "markdown",
   "metadata": {},
   "source": [
    "## Create ElasticNet Regression Model"
   ]
  },
  {
   "cell_type": "markdown",
   "metadata": {},
   "source": [
    "<div class=\"alert alert-block alert-success\">\n",
    "    <b>ElasticNet Regression</b>: tend to give sparse weights (most zeros), because the l1 regularization cares equally about driving down big weights to small weights, or driving small weights to zeros. If you have a lot of predictors (features), and you suspect that not all of them are that important, Lasso and ElasticNet may be really good idea to start with</div>"
   ]
  },
  {
   "cell_type": "markdown",
   "metadata": {},
   "source": [
    "<div class=\"alert alert-block alert-info\">\n",
    "<b>sklearn.linear_model.ElasticNet</b><br>\n",
    "https://scikit-learn.org/stable/modules/generated/sklearn.linear_model.ElasticNet.html\n",
    "</div>"
   ]
  },
  {
   "cell_type": "markdown",
   "metadata": {},
   "source": [
    "#### Create ElasticNet Regression Instance"
   ]
  },
  {
   "cell_type": "code",
   "execution_count": null,
   "metadata": {},
   "outputs": [],
   "source": [
    "enrm = ElasticNet(alpha=0.001)\n",
    "\n",
    "# Fit data on to the model\n",
    "enrm.fit(X_train, y_train)\n",
    "\n",
    "# Predict\n",
    "y_predicted_enrm = enrm.predict(X_test)"
   ]
  },
  {
   "cell_type": "markdown",
   "metadata": {},
   "source": [
    "#### ElasticNet Regression Model Actual Vs. Predicted Price Plot"
   ]
  },
  {
   "cell_type": "code",
   "execution_count": null,
   "metadata": {},
   "outputs": [],
   "source": [
    "plt.figure(figsize=(10,8))\n",
    "plt.scatter(y_test, y_predicted_enrm)\n",
    "plt.plot([0, 50], [0, 50], '--k')\n",
    "plt.axis('tight')\n",
    "plt.ylabel('Predicted Prices', fontsize=20);\n",
    "plt.xlabel('Actual Prices', fontsize=20);\n",
    "plt.title(\"ElasticNet Regression Predicted Boston Housing Prices vs. Actual in $1000's\", fontsize=20)\n",
    "\n",
    "plt.rc('xtick', labelsize=15)\n",
    "plt.rc('ytick', labelsize=15)\n",
    "\n",
    "plt.show()"
   ]
  },
  {
   "cell_type": "code",
   "execution_count": null,
   "metadata": {},
   "outputs": [],
   "source": [
    "print(\"ElasticNet Regression R_squared = \",enrm.score(X,y)) \n",
    "pred= enrm.predict(X)\n",
    "rmse = sqrt(mean_squared_error(pred, y))\n",
    "print('ElasticNet Regression RMSE = ', rmse)"
   ]
  },
  {
   "cell_type": "code",
   "execution_count": null,
   "metadata": {},
   "outputs": [],
   "source": [
    "print(enrm.coef_)"
   ]
  },
  {
   "cell_type": "code",
   "execution_count": null,
   "metadata": {},
   "outputs": [],
   "source": [
    "print(enrm.intercept_)"
   ]
  },
  {
   "cell_type": "markdown",
   "metadata": {},
   "source": [
    "#### Create copy for Model Development "
   ]
  },
  {
   "cell_type": "code",
   "execution_count": null,
   "metadata": {},
   "outputs": [],
   "source": [
    "model_data=boston_df6.values"
   ]
  },
  {
   "cell_type": "markdown",
   "metadata": {},
   "source": [
    "#### Models (Linear Regression, Ridge Regression, Lasso Regression, Elastic Net Regression)"
   ]
  },
  {
   "cell_type": "code",
   "execution_count": null,
   "metadata": {},
   "outputs": [],
   "source": [
    "# Seed value for random number generators to obtain reproducible results\n",
    "RANDOM_SEED = 1\n",
    "\n",
    "# The model input data outside of the modeling method calls\n",
    "names = ['Linear_Regression', 'Ridge_Regression', 'Lasso_Regression', 'ElasticNet_Regression']\n",
    "\n",
    "# Specify the set of regression models being evaluated (we set normalize=False because we have standardized above)\n",
    "regressors = [LinearRegression(fit_intercept = True, normalize = False), \n",
    "              Ridge(alpha = 75, solver = 'cholesky', fit_intercept = True, normalize = False, random_state = RANDOM_SEED),\n",
    "              Lasso(alpha = 0.01, max_iter=10000, tol=0.01, fit_intercept = True, normalize = False, random_state = RANDOM_SEED),\n",
    "              ElasticNet(alpha = 0.01, l1_ratio = 0.5, max_iter=10000, tol=0.01, fit_intercept = True, normalize = False, random_state = RANDOM_SEED),\n",
    "              ]"
   ]
  },
  {
   "cell_type": "markdown",
   "metadata": {},
   "source": [
    "### Random Search"
   ]
  },
  {
   "cell_type": "code",
   "execution_count": null,
   "metadata": {},
   "outputs": [],
   "source": [
    "# Establish number of cross folds employed for cross-validation\n",
    "N_FOLDS = 10\n",
    "\n",
    "# Setup numpy array for storing results\n",
    "cv_results = np.zeros((N_FOLDS, len(names)))\n",
    "\n",
    "# Initiate splitting process\n",
    "kf = KFold(n_splits = N_FOLDS, shuffle=False, random_state = RANDOM_SEED)\n",
    "\n",
    "# Check the splitting process by looking at fold observation counts\n",
    "index_for_fold = 0  # Fold count initialized \n",
    "for train_index, test_index in kf.split(model_data):\n",
    "    print('\\nFold index:', index_for_fold, '---------------------------------------------------------------------------------------')\n",
    "\n",
    "# The structure of modeling data for this study has the response variable coming first and explanatory variables later          \n",
    "# so 1:model_data.shape[1] slices for explanatory variables and 0 is the index for the response variable    \n",
    "    X_train = model_data[train_index, 1:model_data.shape[1]]\n",
    "    X_test = model_data[test_index, 1:model_data.shape[1]]\n",
    "    y_train = model_data[train_index, 0]\n",
    "    y_test = model_data[test_index, 0]   \n",
    "\n",
    "    index_for_method = 0  # Method count initialized\n",
    "    for name, reg_model in zip(names, regressors):\n",
    "        reg_model.fit(X_train, y_train)  # Fit on the train set for this fold\n",
    " \n",
    "        # Evaluate on the test set for this fold\n",
    "        y_test_predict = reg_model.predict(X_test)\n",
    "        fold_method_result = sqrt(mean_squared_error(y_test, y_test_predict))\n",
    "        cv_results[index_for_fold, index_for_method] = fold_method_result\n",
    "        index_for_method += 1\n",
    "  \n",
    "    index_for_fold += 1\n",
    "\n",
    "cv_results_df = pd.DataFrame(cv_results)\n",
    "cv_results_df.columns = names\n",
    "\n",
    "print('\\n---------------------------------------------------------------------------------------')\n",
    "print('Average results from ', N_FOLDS, '-fold cross-validation\\n',\n",
    "      'in standardized units (mean 0, standard deviation 1)\\n',\n",
    "      '\\nMethod               Root mean-squared error', sep = '')    \n",
    "print(cv_results_df.mean())"
   ]
  },
  {
   "cell_type": "code",
   "execution_count": null,
   "metadata": {},
   "outputs": [],
   "source": [
    "cv_results_df.head(10)"
   ]
  }
 ],
 "metadata": {
  "kernelspec": {
   "display_name": "Python 3",
   "language": "python",
   "name": "python3"
  },
  "language_info": {
   "codemirror_mode": {
    "name": "ipython",
    "version": 3
   },
   "file_extension": ".py",
   "mimetype": "text/x-python",
   "name": "python",
   "nbconvert_exporter": "python",
   "pygments_lexer": "ipython3",
   "version": "3.6.9"
  },
  "toc": {
   "base_numbering": 1,
   "nav_menu": {},
   "number_sections": false,
   "sideBar": true,
   "skip_h1_title": false,
   "title_cell": "Table of Contents",
   "title_sidebar": "Contents",
   "toc_cell": false,
   "toc_position": {},
   "toc_section_display": true,
   "toc_window_display": false
  }
 },
 "nbformat": 4,
 "nbformat_minor": 2
}
